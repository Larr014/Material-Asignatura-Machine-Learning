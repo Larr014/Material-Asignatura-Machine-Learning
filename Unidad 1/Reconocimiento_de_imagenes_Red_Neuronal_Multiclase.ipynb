{
  "nbformat": 4,
  "nbformat_minor": 0,
  "metadata": {
    "colab": {
      "provenance": []
    },
    "kernelspec": {
      "name": "python3",
      "display_name": "Python 3"
    },
    "language_info": {
      "name": "python"
    }
  },
  "cells": [
    {
      "cell_type": "markdown",
      "source": [],
      "metadata": {
        "id": "vE-75aRqiDhv"
      }
    },
    {
      "cell_type": "code",
      "source": [
        "from google.colab import drive\n",
        "drive.mount('/content/drive')"
      ],
      "metadata": {
        "colab": {
          "base_uri": "https://localhost:8080/"
        },
        "id": "maSKDQJOwiC3",
        "outputId": "15a25184-9022-4370-c15e-d027a3050670"
      },
      "execution_count": 166,
      "outputs": [
        {
          "output_type": "stream",
          "name": "stdout",
          "text": [
            "Drive already mounted at /content/drive; to attempt to forcibly remount, call drive.mount(\"/content/drive\", force_remount=True).\n"
          ]
        }
      ]
    },
    {
      "cell_type": "code",
      "source": [
        "#Carga de librerias\n",
        "from PIL import Image\n",
        "import os\n",
        "import numpy as np\n",
        "\n",
        "# Ruta a la carpeta que contiene las imágenes\n",
        "folder_path = '/content/drive/My Drive/perros/Todo'\n",
        "\n",
        "# Lista para almacenar las imágenes cargadas\n",
        "image_list = []\n",
        "#Lista para almacenar las etiquetas\n",
        "y = []\n",
        "# Recorre todos los archivos en la carpeta\n",
        "for filename in os.listdir(folder_path):\n",
        "    if 'perro' in filename:\n",
        "      y.append(0) #indice 0 perro [perro,persona,casa]\n",
        "    elif 'persona' in filename: #indice 1 persona\n",
        "      y.append(1)\n",
        "    elif 'casa' in filename: #indice 2 casa\n",
        "      y.append(2)\n",
        "    if filename.endswith(\".jpg\") or filename.endswith(\".png\"):\n",
        "        img_path = os.path.join(folder_path, filename)\n",
        "        img = Image.open(img_path)\n",
        "        img = img.resize((224, 224))  # Redimensiona la imagen\n",
        "        img_array = np.array(img) / 255.0  # Normaliza los valores de píxeles\n",
        "        image_list.append(img_array)\n",
        "\n",
        "\n",
        "# Ahora 'image_list_train' contiene todas las imágenes cargadas\n"
      ],
      "metadata": {
        "id": "zWcBANF9xqyu"
      },
      "execution_count": 167,
      "outputs": []
    },
    {
      "cell_type": "code",
      "source": [
        "from sklearn.model_selection import train_test_split\n",
        "X_train, X_test, y_train, y_test = train_test_split(image_list, y, test_size=0.2, random_state=42, stratify=y)"
      ],
      "metadata": {
        "id": "8MTW8trF5_nc"
      },
      "execution_count": 168,
      "outputs": []
    },
    {
      "cell_type": "code",
      "source": [
        "#Carga de librerias\n",
        "import keras\n",
        "from keras.models import Sequential\n",
        "from keras.layers import Dense, Flatten\n",
        "#Se establece una semilla para evitar distintos resultados\n",
        "keras.utils.set_random_seed(812)\n",
        "#Se establece un modelo neuronal\n",
        "model = Sequential()\n",
        "model.add(Flatten(input_shape=(224, 224, 3)))  # Aplanar la imagen\n",
        "model.add(Dense(128, activation='relu'))\n",
        "model.add(Dense(64, activation='relu'))\n",
        "model.add(Dense(3, activation='softmax')) #3 es el numero de clases"
      ],
      "metadata": {
        "id": "biY98_wpyJkL"
      },
      "execution_count": 169,
      "outputs": []
    },
    {
      "cell_type": "code",
      "source": [
        "#Se compila el modelo\n",
        "model.compile(optimizer='adam', loss='categorical_crossentropy', metrics=['accuracy'])"
      ],
      "metadata": {
        "id": "u19SSag11MwI"
      },
      "execution_count": 170,
      "outputs": []
    },
    {
      "cell_type": "code",
      "source": [
        "#Verificamos la estructura de salida esperada para entrenamiento\n",
        "y_train"
      ],
      "metadata": {
        "colab": {
          "base_uri": "https://localhost:8080/"
        },
        "id": "ZRrMbH02_AHZ",
        "outputId": "c44e3451-e1e1-4342-a3d0-e737e3ec48b1"
      },
      "execution_count": 171,
      "outputs": [
        {
          "output_type": "execute_result",
          "data": {
            "text/plain": [
              "[0, 0, 2, 1, 2, 0, 2, 2, 1, 1, 2, 0, 0, 1, 0, 2, 0, 0, 0, 2, 1, 2, 2, 1, 1, 1]"
            ]
          },
          "metadata": {},
          "execution_count": 171
        }
      ]
    },
    {
      "cell_type": "code",
      "source": [
        "#Cambiamos la forma\n",
        "X_train = np.array(X_train)\n",
        "y_train = np.array(y_train)"
      ],
      "metadata": {
        "id": "oCmeZdqx13Ux"
      },
      "execution_count": 172,
      "outputs": []
    },
    {
      "cell_type": "code",
      "source": [
        "y_train = keras.utils.to_categorical(y_train, num_classes=3)\n",
        "y_train"
      ],
      "metadata": {
        "colab": {
          "base_uri": "https://localhost:8080/"
        },
        "id": "PwObnNS67_vs",
        "outputId": "a6135b2c-af14-4a5e-b63c-a47e1ddd8b08"
      },
      "execution_count": 173,
      "outputs": [
        {
          "output_type": "execute_result",
          "data": {
            "text/plain": [
              "array([[1., 0., 0.],\n",
              "       [1., 0., 0.],\n",
              "       [0., 0., 1.],\n",
              "       [0., 1., 0.],\n",
              "       [0., 0., 1.],\n",
              "       [1., 0., 0.],\n",
              "       [0., 0., 1.],\n",
              "       [0., 0., 1.],\n",
              "       [0., 1., 0.],\n",
              "       [0., 1., 0.],\n",
              "       [0., 0., 1.],\n",
              "       [1., 0., 0.],\n",
              "       [1., 0., 0.],\n",
              "       [0., 1., 0.],\n",
              "       [1., 0., 0.],\n",
              "       [0., 0., 1.],\n",
              "       [1., 0., 0.],\n",
              "       [1., 0., 0.],\n",
              "       [1., 0., 0.],\n",
              "       [0., 0., 1.],\n",
              "       [0., 1., 0.],\n",
              "       [0., 0., 1.],\n",
              "       [0., 0., 1.],\n",
              "       [0., 1., 0.],\n",
              "       [0., 1., 0.],\n",
              "       [0., 1., 0.]], dtype=float32)"
            ]
          },
          "metadata": {},
          "execution_count": 173
        }
      ]
    },
    {
      "cell_type": "code",
      "source": [
        "X_train.shape"
      ],
      "metadata": {
        "colab": {
          "base_uri": "https://localhost:8080/"
        },
        "id": "-FBSpnvC7dAw",
        "outputId": "a2669ccf-18e0-48bb-e3fc-77433bf65c7e"
      },
      "execution_count": 174,
      "outputs": [
        {
          "output_type": "execute_result",
          "data": {
            "text/plain": [
              "(26, 224, 224, 3)"
            ]
          },
          "metadata": {},
          "execution_count": 174
        }
      ]
    },
    {
      "cell_type": "code",
      "source": [
        "#Verificamos el cambio\n",
        "y_train"
      ],
      "metadata": {
        "colab": {
          "base_uri": "https://localhost:8080/"
        },
        "id": "ycXQvZgaEl_i",
        "outputId": "f4d6b649-6e91-40cd-81ae-d52241788ff6"
      },
      "execution_count": 175,
      "outputs": [
        {
          "output_type": "execute_result",
          "data": {
            "text/plain": [
              "array([[1., 0., 0.],\n",
              "       [1., 0., 0.],\n",
              "       [0., 0., 1.],\n",
              "       [0., 1., 0.],\n",
              "       [0., 0., 1.],\n",
              "       [1., 0., 0.],\n",
              "       [0., 0., 1.],\n",
              "       [0., 0., 1.],\n",
              "       [0., 1., 0.],\n",
              "       [0., 1., 0.],\n",
              "       [0., 0., 1.],\n",
              "       [1., 0., 0.],\n",
              "       [1., 0., 0.],\n",
              "       [0., 1., 0.],\n",
              "       [1., 0., 0.],\n",
              "       [0., 0., 1.],\n",
              "       [1., 0., 0.],\n",
              "       [1., 0., 0.],\n",
              "       [1., 0., 0.],\n",
              "       [0., 0., 1.],\n",
              "       [0., 1., 0.],\n",
              "       [0., 0., 1.],\n",
              "       [0., 0., 1.],\n",
              "       [0., 1., 0.],\n",
              "       [0., 1., 0.],\n",
              "       [0., 1., 0.]], dtype=float32)"
            ]
          },
          "metadata": {},
          "execution_count": 175
        }
      ]
    },
    {
      "cell_type": "code",
      "source": [
        "type(y_train)"
      ],
      "metadata": {
        "colab": {
          "base_uri": "https://localhost:8080/"
        },
        "id": "ypEnF2amETTM",
        "outputId": "f6515e94-7cac-4995-c052-28526cd69346"
      },
      "execution_count": 176,
      "outputs": [
        {
          "output_type": "execute_result",
          "data": {
            "text/plain": [
              "numpy.ndarray"
            ]
          },
          "metadata": {},
          "execution_count": 176
        }
      ]
    },
    {
      "cell_type": "code",
      "source": [
        "y_train.shape"
      ],
      "metadata": {
        "colab": {
          "base_uri": "https://localhost:8080/"
        },
        "id": "qQr61Xd6FXrD",
        "outputId": "93533b0d-3646-4e79-a022-dc473da7f2b2"
      },
      "execution_count": 177,
      "outputs": [
        {
          "output_type": "execute_result",
          "data": {
            "text/plain": [
              "(26, 3)"
            ]
          },
          "metadata": {},
          "execution_count": 177
        }
      ]
    },
    {
      "cell_type": "code",
      "source": [
        "#Ajustamos(\"Entrenamos\") el modelo al conjunto de datos\n",
        "%time model.fit(X_train,y_train,epochs=20)"
      ],
      "metadata": {
        "colab": {
          "base_uri": "https://localhost:8080/"
        },
        "id": "HYn4V3TRyfWg",
        "outputId": "2fc90656-a63e-4454-dcf0-beffad08f677"
      },
      "execution_count": 178,
      "outputs": [
        {
          "output_type": "stream",
          "name": "stdout",
          "text": [
            "Epoch 1/20\n",
            "1/1 [==============================] - 1s 1s/step - loss: 1.2076 - accuracy: 0.3077\n",
            "Epoch 2/20\n",
            "1/1 [==============================] - 0s 381ms/step - loss: 42.3130 - accuracy: 0.3462\n",
            "Epoch 3/20\n",
            "1/1 [==============================] - 0s 394ms/step - loss: 90.1205 - accuracy: 0.3462\n",
            "Epoch 4/20\n",
            "1/1 [==============================] - 0s 387ms/step - loss: 33.2730 - accuracy: 0.3462\n",
            "Epoch 5/20\n",
            "1/1 [==============================] - 0s 356ms/step - loss: 42.1672 - accuracy: 0.3077\n",
            "Epoch 6/20\n",
            "1/1 [==============================] - 0s 361ms/step - loss: 35.0468 - accuracy: 0.3077\n",
            "Epoch 7/20\n",
            "1/1 [==============================] - 0s 371ms/step - loss: 13.0769 - accuracy: 0.6154\n",
            "Epoch 8/20\n",
            "1/1 [==============================] - 0s 476ms/step - loss: 20.1424 - accuracy: 0.3462\n",
            "Epoch 9/20\n",
            "1/1 [==============================] - 1s 555ms/step - loss: 1.6182 - accuracy: 0.8077\n",
            "Epoch 10/20\n",
            "1/1 [==============================] - 1s 553ms/step - loss: 8.6299 - accuracy: 0.5385\n",
            "Epoch 11/20\n",
            "1/1 [==============================] - 1s 553ms/step - loss: 16.5314 - accuracy: 0.3846\n",
            "Epoch 12/20\n",
            "1/1 [==============================] - 1s 595ms/step - loss: 11.1818 - accuracy: 0.5769\n",
            "Epoch 13/20\n",
            "1/1 [==============================] - 1s 524ms/step - loss: 5.0267 - accuracy: 0.5385\n",
            "Epoch 14/20\n",
            "1/1 [==============================] - 1s 593ms/step - loss: 1.7109 - accuracy: 0.7308\n",
            "Epoch 15/20\n",
            "1/1 [==============================] - 1s 651ms/step - loss: 8.2422 - accuracy: 0.5000\n",
            "Epoch 16/20\n",
            "1/1 [==============================] - 1s 645ms/step - loss: 1.5033 - accuracy: 0.7692\n",
            "Epoch 17/20\n",
            "1/1 [==============================] - 1s 685ms/step - loss: 1.7583 - accuracy: 0.8077\n",
            "Epoch 18/20\n",
            "1/1 [==============================] - 1s 571ms/step - loss: 3.6032 - accuracy: 0.5769\n",
            "Epoch 19/20\n",
            "1/1 [==============================] - 0s 386ms/step - loss: 3.2098 - accuracy: 0.6923\n",
            "Epoch 20/20\n",
            "1/1 [==============================] - 0s 344ms/step - loss: 2.3713 - accuracy: 0.6923\n",
            "CPU times: user 7.5 s, sys: 7.17 s, total: 14.7 s\n",
            "Wall time: 11 s\n"
          ]
        },
        {
          "output_type": "execute_result",
          "data": {
            "text/plain": [
              "<keras.src.callbacks.History at 0x7d2c9b1701f0>"
            ]
          },
          "metadata": {},
          "execution_count": 178
        }
      ]
    },
    {
      "cell_type": "code",
      "source": [
        "%time y_train"
      ],
      "metadata": {
        "colab": {
          "base_uri": "https://localhost:8080/"
        },
        "id": "dYJhtwVZFtEY",
        "outputId": "f56fd3fc-1e2e-4552-a98e-a94c2fe59d85"
      },
      "execution_count": 179,
      "outputs": [
        {
          "output_type": "stream",
          "name": "stdout",
          "text": [
            "CPU times: user 2 µs, sys: 2 µs, total: 4 µs\n",
            "Wall time: 8.82 µs\n"
          ]
        },
        {
          "output_type": "execute_result",
          "data": {
            "text/plain": [
              "array([[1., 0., 0.],\n",
              "       [1., 0., 0.],\n",
              "       [0., 0., 1.],\n",
              "       [0., 1., 0.],\n",
              "       [0., 0., 1.],\n",
              "       [1., 0., 0.],\n",
              "       [0., 0., 1.],\n",
              "       [0., 0., 1.],\n",
              "       [0., 1., 0.],\n",
              "       [0., 1., 0.],\n",
              "       [0., 0., 1.],\n",
              "       [1., 0., 0.],\n",
              "       [1., 0., 0.],\n",
              "       [0., 1., 0.],\n",
              "       [1., 0., 0.],\n",
              "       [0., 0., 1.],\n",
              "       [1., 0., 0.],\n",
              "       [1., 0., 0.],\n",
              "       [1., 0., 0.],\n",
              "       [0., 0., 1.],\n",
              "       [0., 1., 0.],\n",
              "       [0., 0., 1.],\n",
              "       [0., 0., 1.],\n",
              "       [0., 1., 0.],\n",
              "       [0., 1., 0.],\n",
              "       [0., 1., 0.]], dtype=float32)"
            ]
          },
          "metadata": {},
          "execution_count": 179
        }
      ]
    },
    {
      "cell_type": "code",
      "source": [
        "#Cambiamos el formato al conjunto de prueba\n",
        "X_test = np.array(X_test)\n",
        "y_test = np.array(y_test)"
      ],
      "metadata": {
        "id": "eMHp7F8L2ApJ"
      },
      "execution_count": 180,
      "outputs": []
    },
    {
      "cell_type": "code",
      "source": [
        "if len(y_test.shape) == 0:\n",
        "    y_test = y_test.reshape(1,)"
      ],
      "metadata": {
        "id": "gz71gRcN2ijO"
      },
      "execution_count": 181,
      "outputs": []
    },
    {
      "cell_type": "code",
      "source": [
        "print(y_test.shape)\n",
        "print(X_test.shape)"
      ],
      "metadata": {
        "colab": {
          "base_uri": "https://localhost:8080/"
        },
        "id": "Qv6Uh2q-2xEv",
        "outputId": "2f1d5f51-d3cc-411f-8da3-b8e485e75b96"
      },
      "execution_count": 182,
      "outputs": [
        {
          "output_type": "stream",
          "name": "stdout",
          "text": [
            "(7,)\n",
            "(7, 224, 224, 3)\n"
          ]
        }
      ]
    },
    {
      "cell_type": "code",
      "source": [
        "#Verificamos su forma\n",
        "y_test"
      ],
      "metadata": {
        "colab": {
          "base_uri": "https://localhost:8080/"
        },
        "id": "BgVZsICC9vxj",
        "outputId": "b278370e-85cd-4911-c715-54706408305a"
      },
      "execution_count": 183,
      "outputs": [
        {
          "output_type": "execute_result",
          "data": {
            "text/plain": [
              "array([0, 0, 0, 2, 1, 1, 2])"
            ]
          },
          "metadata": {},
          "execution_count": 183
        }
      ]
    },
    {
      "cell_type": "code",
      "source": [
        "#Usamos el modelo para predecir con el conjunto de prueba\n",
        "y_pred = model.predict(X_test) #Esto genera una salida predicha"
      ],
      "metadata": {
        "colab": {
          "base_uri": "https://localhost:8080/"
        },
        "id": "LlSLfNRD98x5",
        "outputId": "adff8686-1e29-4518-daff-b37defa639d8"
      },
      "execution_count": 184,
      "outputs": [
        {
          "output_type": "stream",
          "name": "stderr",
          "text": [
            "WARNING:tensorflow:6 out of the last 7 calls to <function Model.make_predict_function.<locals>.predict_function at 0x7d2c9ad4fac0> triggered tf.function retracing. Tracing is expensive and the excessive number of tracings could be due to (1) creating @tf.function repeatedly in a loop, (2) passing tensors with different shapes, (3) passing Python objects instead of tensors. For (1), please define your @tf.function outside of the loop. For (2), @tf.function has reduce_retracing=True option that can avoid unnecessary retracing. For (3), please refer to https://www.tensorflow.org/guide/function#controlling_retracing and https://www.tensorflow.org/api_docs/python/tf/function for  more details.\n"
          ]
        },
        {
          "output_type": "stream",
          "name": "stdout",
          "text": [
            "1/1 [==============================] - 0s 89ms/step\n"
          ]
        }
      ]
    },
    {
      "cell_type": "code",
      "source": [
        "#Revisamos el resultado\n",
        "y_pred"
      ],
      "metadata": {
        "colab": {
          "base_uri": "https://localhost:8080/"
        },
        "id": "CGPzEEj6_Nu0",
        "outputId": "4eab9c16-5b6a-4d8d-aa66-3931e4b3e7c3"
      },
      "execution_count": 185,
      "outputs": [
        {
          "output_type": "execute_result",
          "data": {
            "text/plain": [
              "array([[9.98284519e-01, 1.34604605e-09, 1.71543506e-03],\n",
              "       [9.99982715e-01, 1.73288008e-05, 1.36795109e-08],\n",
              "       [8.82821262e-01, 1.05642570e-07, 1.17178716e-01],\n",
              "       [7.78037588e-07, 6.72157967e-13, 9.99999166e-01],\n",
              "       [9.91325505e-05, 6.33725107e-01, 3.66175711e-01],\n",
              "       [8.68201673e-01, 1.31798357e-01, 3.72833959e-08],\n",
              "       [9.36672180e-08, 3.55003527e-20, 9.99999881e-01]], dtype=float32)"
            ]
          },
          "metadata": {},
          "execution_count": 185
        }
      ]
    },
    {
      "cell_type": "code",
      "source": [
        "#Redondeamos los resultados\n",
        "y_pred=np.round(y_pred)\n",
        "y_pred"
      ],
      "metadata": {
        "colab": {
          "base_uri": "https://localhost:8080/"
        },
        "id": "_3T_hP0p_PRS",
        "outputId": "b32f7595-78ed-4345-b3f3-2ef36dfa1c18"
      },
      "execution_count": 186,
      "outputs": [
        {
          "output_type": "execute_result",
          "data": {
            "text/plain": [
              "array([[1., 0., 0.],\n",
              "       [1., 0., 0.],\n",
              "       [1., 0., 0.],\n",
              "       [0., 0., 1.],\n",
              "       [0., 1., 0.],\n",
              "       [1., 0., 0.],\n",
              "       [0., 0., 1.]], dtype=float32)"
            ]
          },
          "metadata": {},
          "execution_count": 186
        }
      ]
    },
    {
      "cell_type": "code",
      "source": [
        "#Se importan las librerias\n",
        "\n",
        "import pandas as pd\n",
        "from sklearn.metrics import confusion_matrix, accuracy_score, precision_score, recall_score, f1_score, roc_auc_score, mean_absolute_error, mean_squared_error, r2_score\n",
        "\n",
        "\n",
        "y_pred = np.argmax(y_pred, axis=1)\n",
        "# Accuracy\n",
        "# Métricas de clasificación\n",
        "conf_matrix = confusion_matrix(y_test, y_pred)\n",
        "accuracy = accuracy_score(y_test, y_pred)\n",
        "\n",
        "# Calculamos precision, recall y f1 para cada clase\n",
        "precision = precision_score(y_test, y_pred, average=None)\n",
        "precision_avg = precision_score(y_test, y_pred, average=\"macro\")\n",
        "recall = recall_score(y_test, y_pred, average=None)\n",
        "recall_avg = recall_score(y_test, y_pred, average=\"macro\")\n",
        "f1 = f1_score(y_test, y_pred, average=None)\n",
        "f1_avg = f1_score(y_test, y_pred, average=\"macro\")\n",
        "print(\"Exactitud:\", accuracy)\n",
        "print(\"Precisión por clase:\", precision,'->', precision_avg)\n",
        "print(\"Sensibilidad por clase:\", recall,'->', recall_avg)\n",
        "print(\"F1 Score por clase:\", f1,'->', f1_avg)"
      ],
      "metadata": {
        "colab": {
          "base_uri": "https://localhost:8080/"
        },
        "id": "Vg3bzFOx3TzI",
        "outputId": "c9d4dbbe-e041-4319-beea-3765bdd7552f"
      },
      "execution_count": 187,
      "outputs": [
        {
          "output_type": "stream",
          "name": "stdout",
          "text": [
            "Exactitud: 0.8571428571428571\n",
            "Precisión por clase: [0.75 1.   1.  ] -> 0.9166666666666666\n",
            "Sensibilidad por clase: [1.  0.5 1. ] -> 0.8333333333333334\n",
            "F1 Score por clase: [0.85714286 0.66666667 1.        ] -> 0.8412698412698413\n"
          ]
        }
      ]
    },
    {
      "cell_type": "code",
      "source": [
        "from sklearn.metrics import ConfusionMatrixDisplay\n",
        "cm = confusion_matrix(y_test, y_pred)\n",
        "disp = ConfusionMatrixDisplay(confusion_matrix=cm)\n",
        "disp.display_labels = ['perro','persona','casa']\n",
        "disp.plot()"
      ],
      "metadata": {
        "colab": {
          "base_uri": "https://localhost:8080/",
          "height": 472
        },
        "id": "KveMc-tq9TRR",
        "outputId": "40f58ba5-68cd-4698-cbb6-b2b470249e21"
      },
      "execution_count": 188,
      "outputs": [
        {
          "output_type": "execute_result",
          "data": {
            "text/plain": [
              "<sklearn.metrics._plot.confusion_matrix.ConfusionMatrixDisplay at 0x7d2c9b216c50>"
            ]
          },
          "metadata": {},
          "execution_count": 188
        },
        {
          "output_type": "display_data",
          "data": {
            "text/plain": [
              "<Figure size 640x480 with 2 Axes>"
            ],
            "image/png": "[encoded data removed]"
          },
          "metadata": {}
        }
      ]
    },
    {
      "cell_type": "code",
      "source": [
        "y_test"
      ],
      "metadata": {
        "colab": {
          "base_uri": "https://localhost:8080/"
        },
        "id": "FhQ8yW47-vbD",
        "outputId": "8e3a4b8f-5812-4069-877a-1bf3ffafeca4"
      },
      "execution_count": 189,
      "outputs": [
        {
          "output_type": "execute_result",
          "data": {
            "text/plain": [
              "array([0, 0, 0, 2, 1, 1, 2])"
            ]
          },
          "metadata": {},
          "execution_count": 189
        }
      ]
    },
    {
      "cell_type": "code",
      "source": [
        "y_pred"
      ],
      "metadata": {
        "colab": {
          "base_uri": "https://localhost:8080/"
        },
        "id": "DnTpIIx--9s2",
        "outputId": "ab53b855-f3cc-48ac-e347-967eaf8f3ec5"
      },
      "execution_count": 190,
      "outputs": [
        {
          "output_type": "execute_result",
          "data": {
            "text/plain": [
              "array([0, 0, 0, 2, 1, 0, 2])"
            ]
          },
          "metadata": {},
          "execution_count": 190
        }
      ]
    },
    {
      "cell_type": "code",
      "source": [
        "X_test[5]"
      ],
      "metadata": {
        "colab": {
          "base_uri": "https://localhost:8080/"
        },
        "id": "myHdj9yB_BjU",
        "outputId": "2c7633e3-962d-48f1-8584-80c689d1046b"
      },
      "execution_count": 191,
      "outputs": [
        {
          "output_type": "execute_result",
          "data": {
            "text/plain": [
              "array([[[0.97254902, 0.97254902, 0.98039216],\n",
              "        [0.96862745, 0.96862745, 0.97647059],\n",
              "        [0.96862745, 0.96862745, 0.97647059],\n",
              "        ...,\n",
              "        [0.85882353, 0.8627451 , 0.87058824],\n",
              "        [0.85882353, 0.8627451 , 0.87058824],\n",
              "        [0.85882353, 0.8627451 , 0.87058824]],\n",
              "\n",
              "       [[0.97254902, 0.97254902, 0.98039216],\n",
              "        [0.96862745, 0.96862745, 0.97647059],\n",
              "        [0.96862745, 0.96862745, 0.97647059],\n",
              "        ...,\n",
              "        [0.85882353, 0.8627451 , 0.87058824],\n",
              "        [0.85882353, 0.8627451 , 0.87058824],\n",
              "        [0.85882353, 0.8627451 , 0.87058824]],\n",
              "\n",
              "       [[0.97254902, 0.97254902, 0.98039216],\n",
              "        [0.96862745, 0.96862745, 0.97647059],\n",
              "        [0.96862745, 0.96862745, 0.97647059],\n",
              "        ...,\n",
              "        [0.85882353, 0.8627451 , 0.87058824],\n",
              "        [0.85882353, 0.8627451 , 0.87058824],\n",
              "        [0.85882353, 0.8627451 , 0.87058824]],\n",
              "\n",
              "       ...,\n",
              "\n",
              "       [[0.92156863, 0.9254902 , 0.93333333],\n",
              "        [0.92156863, 0.9254902 , 0.93333333],\n",
              "        [0.92156863, 0.9254902 , 0.93333333],\n",
              "        ...,\n",
              "        [0.81176471, 0.81568627, 0.82352941],\n",
              "        [0.81176471, 0.81568627, 0.82352941],\n",
              "        [0.80784314, 0.81176471, 0.81960784]],\n",
              "\n",
              "       [[0.92156863, 0.9254902 , 0.93333333],\n",
              "        [0.92156863, 0.9254902 , 0.93333333],\n",
              "        [0.92156863, 0.9254902 , 0.93333333],\n",
              "        ...,\n",
              "        [0.81176471, 0.81568627, 0.82352941],\n",
              "        [0.81176471, 0.81568627, 0.82352941],\n",
              "        [0.80784314, 0.81176471, 0.81960784]],\n",
              "\n",
              "       [[0.92156863, 0.9254902 , 0.93333333],\n",
              "        [0.92156863, 0.9254902 , 0.93333333],\n",
              "        [0.92156863, 0.9254902 , 0.93333333],\n",
              "        ...,\n",
              "        [0.81176471, 0.81568627, 0.82352941],\n",
              "        [0.81176471, 0.81568627, 0.82352941],\n",
              "        [0.80784314, 0.81176471, 0.81960784]]])"
            ]
          },
          "metadata": {},
          "execution_count": 191
        }
      ]
    },
    {
      "cell_type": "code",
      "source": [
        "import matplotlib.pyplot as plt\n",
        "img_array = (X_test[5] * 255).astype(np.uint8)  # Scale to 0-255 and convert to 8-bit integer\n",
        "img = Image.fromarray(img_array)\n",
        "plt.imshow(img)"
      ],
      "metadata": {
        "colab": {
          "base_uri": "https://localhost:8080/",
          "height": 451
        },
        "id": "-YI2czCp_G27",
        "outputId": "c34d9ad9-e5f5-4da9-953b-21c774587d11"
      },
      "execution_count": 203,
      "outputs": [
        {
          "output_type": "execute_result",
          "data": {
            "text/plain": [
              "<matplotlib.image.AxesImage at 0x7d2c7fe7f460>"
            ]
          },
          "metadata": {},
          "execution_count": 203
        },
        {
          "output_type": "display_data",
          "data": {
            "text/plain": [
              "<Figure size 640x480 with 1 Axes>"
            ],
            "image/png": "[encoded data removed]"
          },
          "metadata": {}
        }
      ]
    }
  ]
}